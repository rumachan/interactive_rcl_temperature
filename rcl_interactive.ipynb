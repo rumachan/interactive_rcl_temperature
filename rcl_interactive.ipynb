{
 "cells": [
  {
   "cell_type": "code",
   "execution_count": null,
   "metadata": {},
   "outputs": [],
   "source": [
    "%%javascript\n",
    "IPython.OutputArea.prototype._should_scroll = function(lines) {\n",
    "    return false;\n",
    "}"
   ]
  },
  {
   "cell_type": "code",
   "execution_count": null,
   "metadata": {},
   "outputs": [],
   "source": [
    "from IPython.core.display import display, HTML\n",
    "display(HTML(\"<style>.container { width:100% !important; }</style>\"))"
   ]
  },
  {
   "cell_type": "markdown",
   "metadata": {},
   "source": [
    "# Interactive RCL temperature data\n",
    "\n",
    "View Ruapehu Crater Lake temperature data interactively.\n",
    "\n",
    "This is a test using PyViz\n",
    "\n",
    "[<img src=\"https://raw.githubusercontent.com/pyviz/pyviz/master/notebooks/assets/PyViz_logo_wm.png\" width=\"42\" align=\"left\">](http://pyviz.org)"
   ]
  },
  {
   "cell_type": "code",
   "execution_count": null,
   "metadata": {},
   "outputs": [],
   "source": [
    "import numpy as np\n",
    "import pandas as pd\n",
    "import holoviews as hv\n",
    "hv.extension('bokeh', logo=False)"
   ]
  },
  {
   "cell_type": "code",
   "execution_count": null,
   "metadata": {},
   "outputs": [],
   "source": [
    "HTML('''<script>\n",
    "code_show=true; \n",
    "function code_toggle() {\n",
    " if (code_show){\n",
    " $('div.input').hide();\n",
    " } else {\n",
    " $('div.input').show();\n",
    " }\n",
    " code_show = !code_show\n",
    "} \n",
    "$( document ).ready(code_toggle);\n",
    "</script>\n",
    "The raw code for this IPython notebook is by default hidden for easier reading.\n",
    "To toggle on/off the raw code, click <a href=\"javascript:code_toggle()\">here</a>.''')"
   ]
  },
  {
   "cell_type": "code",
   "execution_count": null,
   "metadata": {},
   "outputs": [],
   "source": [
    "names = ['dt', 'temp', 'err']"
   ]
  },
  {
   "cell_type": "code",
   "execution_count": null,
   "metadata": {},
   "outputs": [],
   "source": [
    "df = pd.read_csv('https://fits.geonet.org.nz/observation?siteID=RU001&typeID=t', skiprows=1, names=names, parse_dates=['dt'], index_col='dt')\n",
    "#resample as daily mean and interpolate\n",
    "dfd = df.resample('D').mean().interpolate(method='linear')"
   ]
  },
  {
   "cell_type": "code",
   "execution_count": null,
   "metadata": {},
   "outputs": [],
   "source": [
    "#holoviews requires a non-datetime index\n",
    "dfday = dfd.reset_index()"
   ]
  },
  {
   "cell_type": "code",
   "execution_count": null,
   "metadata": {},
   "outputs": [],
   "source": [
    "from bokeh.models import HoverTool\n",
    "hover = HoverTool(tooltips=[\n",
    "    (\"Date\", \"@dt{%Y-%m-%d}\"),\n",
    "    (\"Temperature\", \"@temp\")\n",
    "], formatters={\"dt\":\"datetime\"}, mode='vline')"
   ]
  },
  {
   "cell_type": "code",
   "execution_count": null,
   "metadata": {},
   "outputs": [],
   "source": [
    "%%opts Curve  [height=600 width=1200 tools=[hover] title_format='Ruapehu Crater Lake daily mean temperature']\n",
    "\n",
    "#horizontal lines for descrptive statistics\n",
    "median = hv.HLine(dfd['temp'].median()).options(color='green', line_width=2, line_dash='dashed', alpha=0.5)\n",
    "q25 = hv.HLine(dfd['temp'].quantile(q=0.25)).options(color='black', line_width=2, line_dash='dashed', alpha=0.5)\n",
    "q75 = hv.HLine(dfd['temp'].quantile(q=0.75)).options(color='red', line_width=2, line_dash='dashed', alpha=0.5)\n",
    "\n",
    "#label horizontal lines\n",
    "median_label = hv.Text(pd.to_datetime('1951-01-01'), dfd['temp'].median()*1.025, \"median\", halign='left').options(color='green', text_alpha=0.5)\n",
    "q25_label = hv.Text(pd.to_datetime('1951-01-01'), dfd['temp'].quantile(q=0.25)*1.025, \"lower quartile\", halign='left').options(color='black', text_alpha=0.5)\n",
    "q75_label = hv.Text(pd.to_datetime('1951-01-01'), dfd['temp'].quantile(q=0.75)*1.025, \"upper quartile\", halign='left').options(color='red', text_alpha=0.5)\n",
    "\n",
    "curve = hv.Curve(dfday, 'dt', 'temp').redim.label(dt=' ',temp='Temperature (C)') * median * q25 * q75  * median_label * q25_label * q75_label\n",
    "curve"
   ]
  }
 ],
 "metadata": {
  "kernelspec": {
   "display_name": "Python 3",
   "language": "python",
   "name": "python3"
  },
  "language_info": {
   "codemirror_mode": {
    "name": "ipython",
    "version": 3
   },
   "file_extension": ".py",
   "mimetype": "text/x-python",
   "name": "python",
   "nbconvert_exporter": "python",
   "pygments_lexer": "ipython3",
   "version": "3.6.6"
  }
 },
 "nbformat": 4,
 "nbformat_minor": 2
}
